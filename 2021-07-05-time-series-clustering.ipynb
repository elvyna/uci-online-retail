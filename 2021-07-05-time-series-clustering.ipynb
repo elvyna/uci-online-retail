{
 "cells": [
  {
   "cell_type": "code",
   "execution_count": 1,
   "metadata": {},
   "outputs": [],
   "source": [
    "import pandas as pd\n",
    "import numpy as np\n",
    "import matplotlib.pyplot as plt\n",
    "import matplotlib.dates as mdates\n",
    "import seaborn as sns\n",
    "\n",
    "sns.set_context('talk')"
   ]
  },
  {
   "cell_type": "markdown",
   "metadata": {},
   "source": [
    "# Data Preparation"
   ]
  },
  {
   "cell_type": "code",
   "execution_count": 2,
   "metadata": {},
   "outputs": [
    {
     "data": {
      "text/plain": [
       "(1067371, 8)"
      ]
     },
     "execution_count": 2,
     "metadata": {},
     "output_type": "execute_result"
    }
   ],
   "source": [
    "df_raw = pd.read_csv(\"online_retail_II.csv\")\n",
    "df_raw.shape"
   ]
  },
  {
   "cell_type": "code",
   "execution_count": 3,
   "metadata": {},
   "outputs": [
    {
     "data": {
      "text/plain": [
       "Invoice                                     489434\n",
       "StockCode                                    85048\n",
       "Description    15CM CHRISTMAS GLASS BALL 20 LIGHTS\n",
       "Quantity                                        12\n",
       "InvoiceDate                    2009-12-01 07:45:00\n",
       "Price                                         6.95\n",
       "Customer ID                                13085.0\n",
       "Country                             United Kingdom\n",
       "Name: 0, dtype: object"
      ]
     },
     "execution_count": 3,
     "metadata": {},
     "output_type": "execute_result"
    }
   ],
   "source": [
    "df_raw.iloc[0]"
   ]
  },
  {
   "cell_type": "code",
   "execution_count": 7,
   "metadata": {},
   "outputs": [],
   "source": [
    "df_raw['Customer ID'] = df_raw['Customer ID'].astype(str).apply(lambda x: x.split('.')[0])\n",
    "df_raw['InvoiceDate'] = pd.to_datetime(df_raw['InvoiceDate'])\n",
    "df_raw['subtotal'] = df_raw['Quantity'] * df_raw['Price']"
   ]
  },
  {
   "cell_type": "code",
   "execution_count": 148,
   "metadata": {},
   "outputs": [],
   "source": [
    "df_raw['invoice_date_week'] = pd.to_datetime(\n",
    "    pd.to_datetime(df_raw['InvoiceDate']) - pd.to_timedelta(df_raw['InvoiceDate'].dt.dayofweek, unit='d')\n",
    ")#.dt.date"
   ]
  },
  {
   "cell_type": "code",
   "execution_count": 131,
   "metadata": {},
   "outputs": [
    {
     "data": {
      "text/plain": [
       "0         1 days\n",
       "1         1 days\n",
       "2         1 days\n",
       "3         1 days\n",
       "4         1 days\n",
       "           ...  \n",
       "1067366   4 days\n",
       "1067367   4 days\n",
       "1067368   4 days\n",
       "1067369   4 days\n",
       "1067370   4 days\n",
       "Name: InvoiceDate, Length: 1067371, dtype: timedelta64[ns]"
      ]
     },
     "execution_count": 131,
     "metadata": {},
     "output_type": "execute_result"
    }
   ],
   "source": [
    "pd.to_timedelta(df_raw['InvoiceDate'].dt.dayofweek, unit='d')"
   ]
  },
  {
   "cell_type": "code",
   "execution_count": null,
   "metadata": {},
   "outputs": [],
   "source": [
    "from pandas.tseries.offsets import MonthEnd\n",
    "\n",
    "df_raw['month_end_date'] = df_raw['InvoiceDate'] + MonthEnd(1)"
   ]
  },
  {
   "cell_type": "code",
   "execution_count": 6,
   "metadata": {},
   "outputs": [
    {
     "name": "stdout",
     "output_type": "stream",
     "text": [
      "Number of unique item codes: 5,305\n"
     ]
    }
   ],
   "source": [
    "print(f\"Number of unique item codes: {df_raw['StockCode'].nunique():,}\")"
   ]
  },
  {
   "cell_type": "code",
   "execution_count": 19,
   "metadata": {},
   "outputs": [],
   "source": [
    "agg_date = df_raw.groupby(['StockCode']).agg({\n",
    "    'invoice_date_week': ['min','max','nunique']\n",
    "}).reset_index()\n",
    "\n",
    "agg_date.columns = [\n",
    "    col[0] if col[1] == '' else col[0]+'_'+col[1] for col in agg_date.columns\n",
    "]"
   ]
  },
  {
   "cell_type": "code",
   "execution_count": 25,
   "metadata": {},
   "outputs": [
    {
     "data": {
      "image/png": "[encoded data removed]",
      "text/plain": [
       "<Figure size 432x288 with 1 Axes>"
      ]
     },
     "metadata": {
      "needs_background": "light"
     },
     "output_type": "display_data"
    }
   ],
   "source": [
    "sns.violinplot(agg_date['invoice_date_week_nunique'])\n",
    "plt.title('Each item has a different number of dates in the sales data')\n",
    "sns.despine();"
   ]
  },
  {
   "cell_type": "code",
   "execution_count": 26,
   "metadata": {},
   "outputs": [
    {
     "data": {
      "text/plain": [
       "count    1.067371e+06\n",
       "mean     9.938898e+00\n",
       "std      1.727058e+02\n",
       "min     -8.099500e+04\n",
       "25%      1.000000e+00\n",
       "50%      3.000000e+00\n",
       "75%      1.000000e+01\n",
       "max      8.099500e+04\n",
       "Name: Quantity, dtype: float64"
      ]
     },
     "execution_count": 26,
     "metadata": {},
     "output_type": "execute_result"
    }
   ],
   "source": [
    "df_raw['Quantity'].describe()"
   ]
  },
  {
   "cell_type": "code",
   "execution_count": 30,
   "metadata": {},
   "outputs": [
    {
     "name": "stdout",
     "output_type": "stream",
     "text": [
      "2.15% of the records have negative sales quantity\n"
     ]
    }
   ],
   "source": [
    "negative_quantity = (df_raw['Quantity'] < 0).sum() / df_raw.shape[0] \n",
    "print(f\"{negative_quantity:.2%} of the records have negative sales quantity\")"
   ]
  },
  {
   "cell_type": "markdown",
   "metadata": {},
   "source": [
    "Interesting -- the total sales quantity can be extremely negative. To simplify, we'll only take items with positive all-time sales quantity."
   ]
  },
  {
   "cell_type": "code",
   "execution_count": 33,
   "metadata": {},
   "outputs": [
    {
     "data": {
      "text/html": [
       "<div>\n",
       "<style scoped>\n",
       "    .dataframe tbody tr th:only-of-type {\n",
       "        vertical-align: middle;\n",
       "    }\n",
       "\n",
       "    .dataframe tbody tr th {\n",
       "        vertical-align: top;\n",
       "    }\n",
       "\n",
       "    .dataframe thead th {\n",
       "        text-align: right;\n",
       "    }\n",
       "</style>\n",
       "<table border=\"1\" class=\"dataframe\">\n",
       "  <thead>\n",
       "    <tr style=\"text-align: right;\">\n",
       "      <th></th>\n",
       "      <th>StockCode</th>\n",
       "      <th>Quantity</th>\n",
       "    </tr>\n",
       "  </thead>\n",
       "  <tbody>\n",
       "    <tr>\n",
       "      <th>0</th>\n",
       "      <td>20852</td>\n",
       "      <td>-18800</td>\n",
       "    </tr>\n",
       "    <tr>\n",
       "      <th>1</th>\n",
       "      <td>22126</td>\n",
       "      <td>-16400</td>\n",
       "    </tr>\n",
       "    <tr>\n",
       "      <th>2</th>\n",
       "      <td>23005</td>\n",
       "      <td>-14418</td>\n",
       "    </tr>\n",
       "    <tr>\n",
       "      <th>3</th>\n",
       "      <td>23003</td>\n",
       "      <td>-8516</td>\n",
       "    </tr>\n",
       "    <tr>\n",
       "      <th>4</th>\n",
       "      <td>10120</td>\n",
       "      <td>-8350</td>\n",
       "    </tr>\n",
       "  </tbody>\n",
       "</table>\n",
       "</div>"
      ],
      "text/plain": [
       "  StockCode  Quantity\n",
       "0     20852    -18800\n",
       "1     22126    -16400\n",
       "2     23005    -14418\n",
       "3     23003     -8516\n",
       "4     10120     -8350"
      ]
     },
     "execution_count": 33,
     "metadata": {},
     "output_type": "execute_result"
    }
   ],
   "source": [
    "agg_quantity = df_raw.groupby('StockCode').sum()['Quantity'].sort_values().reset_index()\n",
    "agg_quantity.head()"
   ]
  },
  {
   "cell_type": "code",
   "execution_count": 42,
   "metadata": {},
   "outputs": [],
   "source": [
    "positive_quantity_item_list = agg_quantity.query('Quantity > 0')['StockCode'].tolist()\n",
    "df_selected = df_raw.query('StockCode in @positive_quantity_item_list')"
   ]
  },
  {
   "cell_type": "markdown",
   "metadata": {},
   "source": [
    "# Observe sales history"
   ]
  },
  {
   "cell_type": "code",
   "execution_count": 150,
   "metadata": {},
   "outputs": [
    {
     "data": {
      "text/plain": [
       "Invoice                                           489434\n",
       "StockCode                                          85048\n",
       "Description          15CM CHRISTMAS GLASS BALL 20 LIGHTS\n",
       "Quantity                                              12\n",
       "InvoiceDate                          2009-12-01 07:45:00\n",
       "Price                                               6.95\n",
       "Customer ID                                        13085\n",
       "Country                                   United Kingdom\n",
       "subtotal                                            83.4\n",
       "invoice_date_week                             2009-11-30\n",
       "Name: 0, dtype: object"
      ]
     },
     "execution_count": 150,
     "metadata": {},
     "output_type": "execute_result"
    }
   ],
   "source": [
    "df_selected.iloc[0]"
   ]
  },
  {
   "cell_type": "code",
   "execution_count": 156,
   "metadata": {},
   "outputs": [],
   "source": [
    "# df_selected.groupby(pd.Grouper(key='invoice_date_week', freq='W'))"
   ]
  },
  {
   "cell_type": "code",
   "execution_count": 149,
   "metadata": {},
   "outputs": [
    {
     "ename": "TypeError",
     "evalue": "Only valid with DatetimeIndex, TimedeltaIndex or PeriodIndex, but got an instance of 'Index'",
     "output_type": "error",
     "traceback": [
      "\u001b[0;31m---------------------------------------------------------------------------\u001b[0m",
      "\u001b[0;31mTypeError\u001b[0m                                 Traceback (most recent call last)",
      "\u001b[0;32m<ipython-input-149-a338cd8f7f94>\u001b[0m in \u001b[0;36m<module>\u001b[0;34m\u001b[0m\n\u001b[1;32m      4\u001b[0m         \u001b[0mfreq\u001b[0m\u001b[0;34m=\u001b[0m\u001b[0;34m'W'\u001b[0m\u001b[0;34m\u001b[0m\u001b[0;34m\u001b[0m\u001b[0m\n\u001b[1;32m      5\u001b[0m     ),\n\u001b[0;32m----> 6\u001b[0;31m     \u001b[0;34m'StockCode'\u001b[0m\u001b[0;34m\u001b[0m\u001b[0;34m\u001b[0m\u001b[0m\n\u001b[0m\u001b[1;32m      7\u001b[0m ]).sum()['Quantity'].reset_index().rename(\n\u001b[1;32m      8\u001b[0m     columns={\n",
      "\u001b[0;32m~/miniconda3/envs/py37/lib/python3.7/site-packages/pandas/core/frame.py\u001b[0m in \u001b[0;36mgroupby\u001b[0;34m(self, by, axis, level, as_index, sort, group_keys, squeeze, observed, dropna)\u001b[0m\n\u001b[1;32m   6722\u001b[0m             \u001b[0msqueeze\u001b[0m\u001b[0;34m=\u001b[0m\u001b[0msqueeze\u001b[0m\u001b[0;34m,\u001b[0m\u001b[0;34m\u001b[0m\u001b[0;34m\u001b[0m\u001b[0m\n\u001b[1;32m   6723\u001b[0m             \u001b[0mobserved\u001b[0m\u001b[0;34m=\u001b[0m\u001b[0mobserved\u001b[0m\u001b[0;34m,\u001b[0m\u001b[0;34m\u001b[0m\u001b[0;34m\u001b[0m\u001b[0m\n\u001b[0;32m-> 6724\u001b[0;31m             \u001b[0mdropna\u001b[0m\u001b[0;34m=\u001b[0m\u001b[0mdropna\u001b[0m\u001b[0;34m,\u001b[0m\u001b[0;34m\u001b[0m\u001b[0;34m\u001b[0m\u001b[0m\n\u001b[0m\u001b[1;32m   6725\u001b[0m         )\n\u001b[1;32m   6726\u001b[0m \u001b[0;34m\u001b[0m\u001b[0m\n",
      "\u001b[0;32m~/miniconda3/envs/py37/lib/python3.7/site-packages/pandas/core/groupby/groupby.py\u001b[0m in \u001b[0;36m__init__\u001b[0;34m(self, obj, keys, axis, level, grouper, exclusions, selection, as_index, sort, group_keys, squeeze, observed, mutated, dropna)\u001b[0m\n\u001b[1;32m    566\u001b[0m                 \u001b[0mobserved\u001b[0m\u001b[0;34m=\u001b[0m\u001b[0mobserved\u001b[0m\u001b[0;34m,\u001b[0m\u001b[0;34m\u001b[0m\u001b[0;34m\u001b[0m\u001b[0m\n\u001b[1;32m    567\u001b[0m                 \u001b[0mmutated\u001b[0m\u001b[0;34m=\u001b[0m\u001b[0mself\u001b[0m\u001b[0;34m.\u001b[0m\u001b[0mmutated\u001b[0m\u001b[0;34m,\u001b[0m\u001b[0;34m\u001b[0m\u001b[0;34m\u001b[0m\u001b[0m\n\u001b[0;32m--> 568\u001b[0;31m                 \u001b[0mdropna\u001b[0m\u001b[0;34m=\u001b[0m\u001b[0mself\u001b[0m\u001b[0;34m.\u001b[0m\u001b[0mdropna\u001b[0m\u001b[0;34m,\u001b[0m\u001b[0;34m\u001b[0m\u001b[0;34m\u001b[0m\u001b[0m\n\u001b[0m\u001b[1;32m    569\u001b[0m             )\n\u001b[1;32m    570\u001b[0m \u001b[0;34m\u001b[0m\u001b[0m\n",
      "\u001b[0;32m~/miniconda3/envs/py37/lib/python3.7/site-packages/pandas/core/groupby/grouper.py\u001b[0m in \u001b[0;36mget_grouper\u001b[0;34m(obj, key, axis, level, sort, observed, mutated, validate, dropna)\u001b[0m\n\u001b[1;32m    837\u001b[0m                 \u001b[0mdropna\u001b[0m\u001b[0;34m=\u001b[0m\u001b[0mdropna\u001b[0m\u001b[0;34m,\u001b[0m\u001b[0;34m\u001b[0m\u001b[0;34m\u001b[0m\u001b[0m\n\u001b[1;32m    838\u001b[0m             )\n\u001b[0;32m--> 839\u001b[0;31m             \u001b[0;32mif\u001b[0m \u001b[0;32mnot\u001b[0m \u001b[0misinstance\u001b[0m\u001b[0;34m(\u001b[0m\u001b[0mgpr\u001b[0m\u001b[0;34m,\u001b[0m \u001b[0mGrouping\u001b[0m\u001b[0;34m)\u001b[0m\u001b[0;34m\u001b[0m\u001b[0;34m\u001b[0m\u001b[0m\n\u001b[0m\u001b[1;32m    840\u001b[0m             \u001b[0;32melse\u001b[0m \u001b[0mgpr\u001b[0m\u001b[0;34m\u001b[0m\u001b[0;34m\u001b[0m\u001b[0m\n\u001b[1;32m    841\u001b[0m         )\n",
      "\u001b[0;32m~/miniconda3/envs/py37/lib/python3.7/site-packages/pandas/core/groupby/grouper.py\u001b[0m in \u001b[0;36m__init__\u001b[0;34m(self, index, grouper, obj, name, level, sort, observed, in_axis, dropna)\u001b[0m\n\u001b[1;32m    492\u001b[0m             \u001b[0;31m# check again as we have by this point converted these\u001b[0m\u001b[0;34m\u001b[0m\u001b[0;34m\u001b[0m\u001b[0;34m\u001b[0m\u001b[0m\n\u001b[1;32m    493\u001b[0m             \u001b[0;31m# to an actual value (rather than a pd.Grouper)\u001b[0m\u001b[0;34m\u001b[0m\u001b[0;34m\u001b[0m\u001b[0;34m\u001b[0m\u001b[0m\n\u001b[0;32m--> 494\u001b[0;31m             \u001b[0m_\u001b[0m\u001b[0;34m,\u001b[0m \u001b[0mgrouper\u001b[0m\u001b[0;34m,\u001b[0m \u001b[0m_\u001b[0m \u001b[0;34m=\u001b[0m \u001b[0mself\u001b[0m\u001b[0;34m.\u001b[0m\u001b[0mgrouper\u001b[0m\u001b[0;34m.\u001b[0m\u001b[0m_get_grouper\u001b[0m\u001b[0;34m(\u001b[0m\u001b[0mself\u001b[0m\u001b[0;34m.\u001b[0m\u001b[0mobj\u001b[0m\u001b[0;34m,\u001b[0m \u001b[0mvalidate\u001b[0m\u001b[0;34m=\u001b[0m\u001b[0;32mFalse\u001b[0m\u001b[0;34m)\u001b[0m\u001b[0;34m\u001b[0m\u001b[0;34m\u001b[0m\u001b[0m\n\u001b[0m\u001b[1;32m    495\u001b[0m             \u001b[0;32mif\u001b[0m \u001b[0mself\u001b[0m\u001b[0;34m.\u001b[0m\u001b[0mname\u001b[0m \u001b[0;32mis\u001b[0m \u001b[0;32mNone\u001b[0m\u001b[0;34m:\u001b[0m\u001b[0;34m\u001b[0m\u001b[0;34m\u001b[0m\u001b[0m\n\u001b[1;32m    496\u001b[0m                 \u001b[0mself\u001b[0m\u001b[0;34m.\u001b[0m\u001b[0mname\u001b[0m \u001b[0;34m=\u001b[0m \u001b[0mgrouper\u001b[0m\u001b[0;34m.\u001b[0m\u001b[0mresult_index\u001b[0m\u001b[0;34m.\u001b[0m\u001b[0mname\u001b[0m\u001b[0;34m\u001b[0m\u001b[0;34m\u001b[0m\u001b[0m\n",
      "\u001b[0;32m~/miniconda3/envs/py37/lib/python3.7/site-packages/pandas/core/resample.py\u001b[0m in \u001b[0;36m_get_grouper\u001b[0;34m(self, obj, validate)\u001b[0m\n\u001b[1;32m   1482\u001b[0m     \u001b[0;32mdef\u001b[0m \u001b[0m_get_grouper\u001b[0m\u001b[0;34m(\u001b[0m\u001b[0mself\u001b[0m\u001b[0;34m,\u001b[0m \u001b[0mobj\u001b[0m\u001b[0;34m,\u001b[0m \u001b[0mvalidate\u001b[0m\u001b[0;34m:\u001b[0m \u001b[0mbool\u001b[0m \u001b[0;34m=\u001b[0m \u001b[0;32mTrue\u001b[0m\u001b[0;34m)\u001b[0m\u001b[0;34m:\u001b[0m\u001b[0;34m\u001b[0m\u001b[0;34m\u001b[0m\u001b[0m\n\u001b[1;32m   1483\u001b[0m         \u001b[0;31m# create the resampler and return our binner\u001b[0m\u001b[0;34m\u001b[0m\u001b[0;34m\u001b[0m\u001b[0;34m\u001b[0m\u001b[0m\n\u001b[0;32m-> 1484\u001b[0;31m         \u001b[0mr\u001b[0m \u001b[0;34m=\u001b[0m \u001b[0mself\u001b[0m\u001b[0;34m.\u001b[0m\u001b[0m_get_resampler\u001b[0m\u001b[0;34m(\u001b[0m\u001b[0mobj\u001b[0m\u001b[0;34m)\u001b[0m\u001b[0;34m\u001b[0m\u001b[0;34m\u001b[0m\u001b[0m\n\u001b[0m\u001b[1;32m   1485\u001b[0m         \u001b[0mr\u001b[0m\u001b[0;34m.\u001b[0m\u001b[0m_set_binner\u001b[0m\u001b[0;34m(\u001b[0m\u001b[0;34m)\u001b[0m\u001b[0;34m\u001b[0m\u001b[0;34m\u001b[0m\u001b[0m\n\u001b[1;32m   1486\u001b[0m         \u001b[0;32mreturn\u001b[0m \u001b[0mr\u001b[0m\u001b[0;34m.\u001b[0m\u001b[0mbinner\u001b[0m\u001b[0;34m,\u001b[0m \u001b[0mr\u001b[0m\u001b[0;34m.\u001b[0m\u001b[0mgrouper\u001b[0m\u001b[0;34m,\u001b[0m \u001b[0mr\u001b[0m\u001b[0;34m.\u001b[0m\u001b[0mobj\u001b[0m\u001b[0;34m\u001b[0m\u001b[0;34m\u001b[0m\u001b[0m\n",
      "\u001b[0;32m~/miniconda3/envs/py37/lib/python3.7/site-packages/pandas/core/resample.py\u001b[0m in \u001b[0;36m_get_resampler\u001b[0;34m(self, obj, kind)\u001b[0m\n\u001b[1;32m   1475\u001b[0m \u001b[0;34m\u001b[0m\u001b[0m\n\u001b[1;32m   1476\u001b[0m         raise TypeError(\n\u001b[0;32m-> 1477\u001b[0;31m             \u001b[0;34m\"Only valid with DatetimeIndex, \"\u001b[0m\u001b[0;34m\u001b[0m\u001b[0;34m\u001b[0m\u001b[0m\n\u001b[0m\u001b[1;32m   1478\u001b[0m             \u001b[0;34m\"TimedeltaIndex or PeriodIndex, \"\u001b[0m\u001b[0;34m\u001b[0m\u001b[0;34m\u001b[0m\u001b[0m\n\u001b[1;32m   1479\u001b[0m             \u001b[0;34mf\"but got an instance of '{type(ax).__name__}'\"\u001b[0m\u001b[0;34m\u001b[0m\u001b[0;34m\u001b[0m\u001b[0m\n",
      "\u001b[0;31mTypeError\u001b[0m: Only valid with DatetimeIndex, TimedeltaIndex or PeriodIndex, but got an instance of 'Index'"
     ]
    }
   ],
   "source": [
    "df_agg = df_selected.groupby([\n",
    "    pd.Grouper(\n",
    "        key='invoice_date_week',\n",
    "        freq='W'\n",
    "    ),\n",
    "    'StockCode'\n",
    "]).sum()['Quantity'].reset_index().rename(\n",
    "    columns={\n",
    "        'StockCode': 'stock_code',\n",
    "        'Quantity': 'quantity'\n",
    "    }\n",
    ")\n",
    "\n",
    "df_agg.head()"
   ]
  },
  {
   "cell_type": "code",
   "execution_count": 54,
   "metadata": {},
   "outputs": [
    {
     "data": {
      "image/png": "[encoded data removed]",
      "text/plain": [
       "<Figure size 1152x288 with 1 Axes>"
      ]
     },
     "metadata": {
      "needs_background": "light"
     },
     "output_type": "display_data"
    }
   ],
   "source": [
    "f, ax = plt.subplots(figsize=(16, 4))\n",
    "\n",
    "df_agg.groupby('invoice_date_week').sum()['quantity'].plot.line();\n",
    "\n",
    "ax.xaxis.set_major_formatter(mdates.DateFormatter('%Y %b'))\n",
    "ax.set_xlabel('')\n",
    "ax.set_ylabel('sales quantity')\n",
    "plt.title(\"Changepoint in the end of 2010?\")\n",
    "sns.despine();"
   ]
  },
  {
   "cell_type": "markdown",
   "metadata": {},
   "source": [
    "## Generate complete time series"
   ]
  },
  {
   "cell_type": "code",
   "execution_count": 129,
   "metadata": {},
   "outputs": [],
   "source": [
    "from datetime import date\n",
    "\n",
    "current_date = pd.to_datetime(date.today())\n",
    "current_month_end_date = current_date.to_period(\"M\").to_timestamp(\"M\")\n",
    "\n",
    "def ensure_complete_date(\n",
    "    df,\n",
    "    date_column,\n",
    "    latest_date_sequence=None,\n",
    "    value_columns=[\"quantity\"],\n",
    "    grouping_columns=None,\n",
    "    is_date_index=False,\n",
    "    date_freq=\"D\",\n",
    "    impute_missing=True,\n",
    "    impute_method=\"linear\",\n",
    "    impute_method_param=2,\n",
    "):\n",
    "    \"\"\"\n",
    "    Ensure all dates exist in the dataset.\n",
    "    If there are any missing dates, a full period will be generated.\n",
    "    If impute_missing is True, missing values will be imputed, by default via linear interpolation.\n",
    "    If impute_missing is False, missing values will be filled by 0.\n",
    "    If grouping_columns are specified, we expect to get a dataframe that contains only one group as input.\n",
    "    i.e., please use this function in conjunction with df.iterrows() -- loop over each group in your main function\n",
    "    Check pandas.DataFrame.interpolate() for more reference: https://pandas.pydata.org/pandas-docs/stable/reference/api/pandas.DataFrame.interpolate.html\n",
    "    Return a dataframe with complete dates.\n",
    "    \"\"\"\n",
    "    if is_date_index:\n",
    "        date_min = df.index.min()\n",
    "        date_max = df.index.max()\n",
    "    else:\n",
    "        date_min = df[date_column].min()\n",
    "        date_max = df[date_column].max()\n",
    "        ## ensure df[date_column] has the same data type as date_sequence\n",
    "        df[date_column] = pd.to_datetime(df[date_column])\n",
    "\n",
    "    ## if grouping_columns is specified\n",
    "    ## take the max date of all groups (to ensure each group has full records until the latest date)\n",
    "    if latest_date_sequence is not None:\n",
    "        date_max = max(date_max, latest_date_sequence)\n",
    "\n",
    "    date_sequence = pd.date_range(start=date_min, end=date_max, freq=date_freq)\n",
    "\n",
    "    ## check if any dates are missing from the generated date sequence\n",
    "    if is_date_index:\n",
    "        missing_date_count = (~date_sequence.isin(df.index)).sum()\n",
    "    else:\n",
    "        missing_date_count = (~date_sequence.isin(df[date_column])).sum()\n",
    "\n",
    "    ## impute value, can be moved as another function?\n",
    "    if missing_date_count > 0:\n",
    "        print(\"There are missing dates in the dataframe. Full period is generated.\")\n",
    "        df_full = pd.DataFrame(data={\"period_date\": date_sequence})\n",
    "        if grouping_columns is None:\n",
    "            if is_date_index:\n",
    "                df_full = df_full.merge(\n",
    "                    df, how=\"left\", left_on=\"period_date\", right_index=True\n",
    "                )\n",
    "            else:\n",
    "                df_full = df_full.merge(\n",
    "                    df, how=\"inner\", left_on=\"period_date\", right_on=date_column\n",
    "                )\n",
    "        else:\n",
    "            df = df.reset_index()\n",
    "            if is_date_index:\n",
    "                df_full = df_full.merge(\n",
    "                    df[[date_column] + grouping_columns + value_columns],\n",
    "                    how=\"left\",\n",
    "                    left_on=\"period_date\",\n",
    "                    right_index=True,\n",
    "                )\n",
    "            else:\n",
    "                df_full = df_full.merge(\n",
    "                    df[[date_column] + grouping_columns + value_columns],\n",
    "                    how=\"left\",\n",
    "                    left_on=\"period_date\",\n",
    "                    right_on=date_column,\n",
    "                )\n",
    "                \n",
    "            ## fill NA in grouping column\n",
    "            for group_col in grouping_columns:\n",
    "                fill_value = df[group_col].unique()[0]\n",
    "                ## ensure the filled value is not na\n",
    "                assert fill_value is not np.nan\n",
    "                df_full[group_col].fillna(fill_value, inplace=True)\n",
    "\n",
    "        display(df.head())\n",
    "        display(df_full.head())\n",
    "        \n",
    "        ## impute value, either using interpolation or zero\n",
    "        if impute_missing:\n",
    "            for col in value_columns:\n",
    "                if impute_method in [\"polynomial\", \"spline\"]:\n",
    "                    df_full[[\"period_date\", col]] = df_full[\n",
    "                        [\"period_date\", col]\n",
    "                    ].interpolate(method=impute_method, order=impute_method_param)\n",
    "                else:\n",
    "                    df_full[[\"period_date\", col]] = df_full[\n",
    "                        [\"period_date\", col]\n",
    "                    ].interpolate(method=impute_method)\n",
    "        else:\n",
    "            for col in value_columns:\n",
    "                df_full[col].fillna(0, inplace=True)\n",
    "        return df_full\n",
    "    else:\n",
    "        return df\n",
    "\n",
    "\n",
    "def generate_complete_records(\n",
    "    df,\n",
    "    main_grouping_columns=[\"stock_code\"],\n",
    "    date_columns=[\"invoice_date_week\"],\n",
    "    main_date_column=\"invoice_date_week\",\n",
    "    value_columns=[\"quantity\"],\n",
    "    date_freq=\"M\",\n",
    "    latest_date_sequence=None,\n",
    "    impute_missing: str = False,\n",
    "    impute_method: str = \"linear\",\n",
    "    impute_method_param: int = 2,\n",
    "):\n",
    "    \"\"\"\n",
    "    Ensure all records (based on grouping columns) have complete records from their first date until the most recent date.\n",
    "    \"\"\"\n",
    "    ## ensure grouping columns exist in the dm\n",
    "    assert all(col in df.columns for col in main_grouping_columns)\n",
    "    assert (\n",
    "        main_grouping_columns == [\"stock_code\"]\n",
    "    )\n",
    "    assert main_date_column in date_columns\n",
    "\n",
    "    ## ensure all dates exist for each item_code and segment, starting from the first transaction date\n",
    "    ## using df.iterrows() may not be the best solution\n",
    "    ## have tried using df.groupby(grouping_columns).apply(ensure_complete_date, *kwargs)\n",
    "    ## but the operation is executed per row, not per grouped df\n",
    "\n",
    "    df_unique_group_columns = df[main_grouping_columns].drop_duplicates()\n",
    "    df_full = pd.DataFrame()\n",
    "\n",
    "    for idx, row in df_unique_group_columns.iterrows():\n",
    "        ## if the grouping columns are only ['item_code'],\n",
    "        ## the logic for mask rows are different\n",
    "        mask = df[\"stock_code\"] == row[\"stock_code\"]\n",
    "\n",
    "        df_masked = df[mask].copy()\n",
    "        if latest_date_sequence is None:\n",
    "            max_date = df[main_date_column].max()\n",
    "        else:\n",
    "            max_date = current_month_end_date\n",
    "\n",
    "        df_temp = ensure_complete_date(\n",
    "            df_masked,\n",
    "            date_column=main_date_column,\n",
    "            value_columns=value_columns,\n",
    "            grouping_columns=main_grouping_columns,\n",
    "            ## to ensure all records are generated until the latest date\n",
    "            latest_date_sequence=max_date,\n",
    "            date_freq=date_freq,\n",
    "            impute_missing=impute_missing,\n",
    "            impute_method=impute_method,\n",
    "            impute_method_param=impute_method_param,\n",
    "        )\n",
    "        df_full = pd.concat([df_full, df_temp])\n",
    "\n",
    "    ## remove additional columns that are generated from ensure_complete_date()\n",
    "    ## it is added only if there are missing dates\n",
    "    if \"period_date\" in df_full.columns:\n",
    "        conditions = [df_full[\"period_date\"].isnull()]\n",
    "        choices = [df_full[main_date_column]]\n",
    "        df_full[\"period_date\"] = np.select(\n",
    "            conditions, choices, default=df_full[\"period_date\"]\n",
    "        )\n",
    "\n",
    "        df_full = df_full.drop(labels=date_columns, axis=1).rename(\n",
    "            columns={\"period_date\": main_date_column}\n",
    "        )\n",
    "    \n",
    "    return df_full.reset_index(drop=True)"
   ]
  },
  {
   "cell_type": "code",
   "execution_count": 130,
   "metadata": {},
   "outputs": [
    {
     "name": "stdout",
     "output_type": "stream",
     "text": [
      "There are missing dates in the dataframe. Full period is generated.\n"
     ]
    },
    {
     "data": {
      "text/html": [
       "<div>\n",
       "<style scoped>\n",
       "    .dataframe tbody tr th:only-of-type {\n",
       "        vertical-align: middle;\n",
       "    }\n",
       "\n",
       "    .dataframe tbody tr th {\n",
       "        vertical-align: top;\n",
       "    }\n",
       "\n",
       "    .dataframe thead th {\n",
       "        text-align: right;\n",
       "    }\n",
       "</style>\n",
       "<table border=\"1\" class=\"dataframe\">\n",
       "  <thead>\n",
       "    <tr style=\"text-align: right;\">\n",
       "      <th></th>\n",
       "      <th>index</th>\n",
       "      <th>stock_code</th>\n",
       "      <th>invoice_date_week</th>\n",
       "      <th>quantity</th>\n",
       "    </tr>\n",
       "  </thead>\n",
       "  <tbody>\n",
       "    <tr>\n",
       "      <th>0</th>\n",
       "      <td>184741</td>\n",
       "      <td>85123A</td>\n",
       "      <td>2009-11-30</td>\n",
       "      <td>1657</td>\n",
       "    </tr>\n",
       "    <tr>\n",
       "      <th>1</th>\n",
       "      <td>184742</td>\n",
       "      <td>85123A</td>\n",
       "      <td>2009-12-07</td>\n",
       "      <td>3139</td>\n",
       "    </tr>\n",
       "    <tr>\n",
       "      <th>2</th>\n",
       "      <td>184743</td>\n",
       "      <td>85123A</td>\n",
       "      <td>2009-12-14</td>\n",
       "      <td>1289</td>\n",
       "    </tr>\n",
       "    <tr>\n",
       "      <th>3</th>\n",
       "      <td>184744</td>\n",
       "      <td>85123A</td>\n",
       "      <td>2009-12-21</td>\n",
       "      <td>126</td>\n",
       "    </tr>\n",
       "    <tr>\n",
       "      <th>4</th>\n",
       "      <td>184745</td>\n",
       "      <td>85123A</td>\n",
       "      <td>2010-01-04</td>\n",
       "      <td>1767</td>\n",
       "    </tr>\n",
       "  </tbody>\n",
       "</table>\n",
       "</div>"
      ],
      "text/plain": [
       "    index stock_code invoice_date_week  quantity\n",
       "0  184741     85123A        2009-11-30      1657\n",
       "1  184742     85123A        2009-12-07      3139\n",
       "2  184743     85123A        2009-12-14      1289\n",
       "3  184744     85123A        2009-12-21       126\n",
       "4  184745     85123A        2010-01-04      1767"
      ]
     },
     "metadata": {},
     "output_type": "display_data"
    },
    {
     "data": {
      "text/html": [
       "<div>\n",
       "<style scoped>\n",
       "    .dataframe tbody tr th:only-of-type {\n",
       "        vertical-align: middle;\n",
       "    }\n",
       "\n",
       "    .dataframe tbody tr th {\n",
       "        vertical-align: top;\n",
       "    }\n",
       "\n",
       "    .dataframe thead th {\n",
       "        text-align: right;\n",
       "    }\n",
       "</style>\n",
       "<table border=\"1\" class=\"dataframe\">\n",
       "  <thead>\n",
       "    <tr style=\"text-align: right;\">\n",
       "      <th></th>\n",
       "      <th>period_date</th>\n",
       "      <th>invoice_date_week</th>\n",
       "      <th>stock_code</th>\n",
       "      <th>quantity</th>\n",
       "    </tr>\n",
       "  </thead>\n",
       "  <tbody>\n",
       "    <tr>\n",
       "      <th>0</th>\n",
       "      <td>2009-12-06</td>\n",
       "      <td>NaT</td>\n",
       "      <td>85123A</td>\n",
       "      <td>NaN</td>\n",
       "    </tr>\n",
       "    <tr>\n",
       "      <th>1</th>\n",
       "      <td>2009-12-13</td>\n",
       "      <td>NaT</td>\n",
       "      <td>85123A</td>\n",
       "      <td>NaN</td>\n",
       "    </tr>\n",
       "    <tr>\n",
       "      <th>2</th>\n",
       "      <td>2009-12-20</td>\n",
       "      <td>NaT</td>\n",
       "      <td>85123A</td>\n",
       "      <td>NaN</td>\n",
       "    </tr>\n",
       "    <tr>\n",
       "      <th>3</th>\n",
       "      <td>2009-12-27</td>\n",
       "      <td>NaT</td>\n",
       "      <td>85123A</td>\n",
       "      <td>NaN</td>\n",
       "    </tr>\n",
       "    <tr>\n",
       "      <th>4</th>\n",
       "      <td>2010-01-03</td>\n",
       "      <td>NaT</td>\n",
       "      <td>85123A</td>\n",
       "      <td>NaN</td>\n",
       "    </tr>\n",
       "  </tbody>\n",
       "</table>\n",
       "</div>"
      ],
      "text/plain": [
       "  period_date invoice_date_week stock_code  quantity\n",
       "0  2009-12-06               NaT     85123A       NaN\n",
       "1  2009-12-13               NaT     85123A       NaN\n",
       "2  2009-12-20               NaT     85123A       NaN\n",
       "3  2009-12-27               NaT     85123A       NaN\n",
       "4  2010-01-03               NaT     85123A       NaN"
      ]
     },
     "metadata": {},
     "output_type": "display_data"
    }
   ],
   "source": [
    "## TO DO: figure out why the series have 0 quantity\n",
    "GENERATE_SERIES = True #False\n",
    "SERIES_FILE_NAME = 'weekly-item-full-series.csv'\n",
    "\n",
    "if GENERATE_SERIES:\n",
    "#     df_agg_full = generate_complete_records(df=df_agg, date_freq='W')    \n",
    "    df_agg_full = generate_complete_records(df=df_agg.query('stock_code == \"85123A\"'), date_freq='W')    \n",
    "#     df_agg_full.to_csv(SERIES_FILE_NAME, index=False)\n",
    "else:\n",
    "    df_agg_full = pd.read_csv(SERIES_FILE_NAME)"
   ]
  },
  {
   "cell_type": "code",
   "execution_count": 128,
   "metadata": {},
   "outputs": [
    {
     "data": {
      "text/plain": [
       "0.0"
      ]
     },
     "execution_count": 128,
     "metadata": {},
     "output_type": "execute_result"
    }
   ],
   "source": [
    "df_agg_full.sum()['quantity']"
   ]
  },
  {
   "cell_type": "code",
   "execution_count": 116,
   "metadata": {},
   "outputs": [
    {
     "data": {
      "text/plain": [
       "(412655, 3)"
      ]
     },
     "execution_count": 116,
     "metadata": {},
     "output_type": "execute_result"
    }
   ],
   "source": [
    "df_agg_full.shape"
   ]
  },
  {
   "cell_type": "code",
   "execution_count": 117,
   "metadata": {},
   "outputs": [
    {
     "data": {
      "text/plain": [
       "0.0"
      ]
     },
     "execution_count": 117,
     "metadata": {},
     "output_type": "execute_result"
    }
   ],
   "source": [
    "df_agg_full['quantity'].sum()"
   ]
  },
  {
   "cell_type": "markdown",
   "metadata": {},
   "source": [
    "## Observe new time series data"
   ]
  },
  {
   "cell_type": "code",
   "execution_count": 95,
   "metadata": {},
   "outputs": [
    {
     "data": {
      "text/html": [
       "<div>\n",
       "<style scoped>\n",
       "    .dataframe tbody tr th:only-of-type {\n",
       "        vertical-align: middle;\n",
       "    }\n",
       "\n",
       "    .dataframe tbody tr th {\n",
       "        vertical-align: top;\n",
       "    }\n",
       "\n",
       "    .dataframe thead th {\n",
       "        text-align: right;\n",
       "    }\n",
       "</style>\n",
       "<table border=\"1\" class=\"dataframe\">\n",
       "  <thead>\n",
       "    <tr style=\"text-align: right;\">\n",
       "      <th></th>\n",
       "      <th>StockCode</th>\n",
       "      <th>Quantity</th>\n",
       "    </tr>\n",
       "  </thead>\n",
       "  <tbody>\n",
       "    <tr>\n",
       "      <th>5300</th>\n",
       "      <td>84879</td>\n",
       "      <td>80705</td>\n",
       "    </tr>\n",
       "    <tr>\n",
       "      <th>5301</th>\n",
       "      <td>21212</td>\n",
       "      <td>95450</td>\n",
       "    </tr>\n",
       "    <tr>\n",
       "      <th>5302</th>\n",
       "      <td>85099B</td>\n",
       "      <td>95739</td>\n",
       "    </tr>\n",
       "    <tr>\n",
       "      <th>5303</th>\n",
       "      <td>85123A</td>\n",
       "      <td>96066</td>\n",
       "    </tr>\n",
       "    <tr>\n",
       "      <th>5304</th>\n",
       "      <td>84077</td>\n",
       "      <td>108545</td>\n",
       "    </tr>\n",
       "  </tbody>\n",
       "</table>\n",
       "</div>"
      ],
      "text/plain": [
       "     StockCode  Quantity\n",
       "5300     84879     80705\n",
       "5301     21212     95450\n",
       "5302    85099B     95739\n",
       "5303    85123A     96066\n",
       "5304     84077    108545"
      ]
     },
     "execution_count": 95,
     "metadata": {},
     "output_type": "execute_result"
    }
   ],
   "source": [
    "agg_quantity.tail()"
   ]
  },
  {
   "cell_type": "code",
   "execution_count": 106,
   "metadata": {},
   "outputs": [
    {
     "data": {
      "text/plain": [
       "stock_code    85123A85123A85123A85123A85123A85123A85123A8512...\n",
       "quantity                                                  96066\n",
       "dtype: object"
      ]
     },
     "execution_count": 106,
     "metadata": {},
     "output_type": "execute_result"
    }
   ],
   "source": [
    "df_agg.query('stock_code == @SELECTED_ITEM').sum()"
   ]
  },
  {
   "cell_type": "code",
   "execution_count": 112,
   "metadata": {},
   "outputs": [
    {
     "data": {
      "image/png": "[encoded data removed]",
      "text/plain": [
       "<Figure size 864x288 with 1 Axes>"
      ]
     },
     "metadata": {
      "needs_background": "light"
     },
     "output_type": "display_data"
    }
   ],
   "source": [
    "f, ax = plt.subplots(figsize=(12,4))\n",
    "\n",
    "SELECTED_ITEM = '85123A'\n",
    "df_agg.query('stock_code == @SELECTED_ITEM').plot.line(\n",
    "    x='invoice_date_week', \n",
    "    y='quantity', \n",
    "    ax=ax\n",
    ");\n",
    "sns.despine();"
   ]
  },
  {
   "cell_type": "markdown",
   "metadata": {},
   "source": [
    "# Clustering"
   ]
  },
  {
   "cell_type": "code",
   "execution_count": null,
   "metadata": {},
   "outputs": [],
   "source": []
  }
 ],
 "metadata": {
  "kernelspec": {
   "display_name": "Python 3",
   "language": "python",
   "name": "python3"
  },
  "language_info": {
   "codemirror_mode": {
    "name": "ipython",
    "version": 3
   },
   "file_extension": ".py",
   "mimetype": "text/x-python",
   "name": "python",
   "nbconvert_exporter": "python",
   "pygments_lexer": "ipython3",
   "version": "3.7.6"
  }
 },
 "nbformat": 4,
 "nbformat_minor": 4
}
