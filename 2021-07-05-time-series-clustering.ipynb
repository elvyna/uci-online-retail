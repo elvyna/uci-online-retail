{
 "cells": [
  {
   "cell_type": "code",
   "execution_count": 1,
   "metadata": {},
   "outputs": [],
   "source": [
    "import pandas as pd\n",
    "import numpy as np\n",
    "import matplotlib.pyplot as plt\n",
    "import matplotlib.dates as mdates\n",
    "import seaborn as sns\n",
    "\n",
    "sns.set_context('talk')"
   ]
  },
  {
   "cell_type": "markdown",
   "metadata": {},
   "source": [
    "# Data Preparation"
   ]
  },
  {
   "cell_type": "code",
   "execution_count": 2,
   "metadata": {},
   "outputs": [
    {
     "data": {
      "text/plain": [
       "(1067371, 8)"
      ]
     },
     "execution_count": 2,
     "metadata": {},
     "output_type": "execute_result"
    }
   ],
   "source": [
    "df_raw = pd.read_csv(\"online_retail_II.csv\")\n",
    "df_raw.shape"
   ]
  },
  {
   "cell_type": "code",
   "execution_count": 3,
   "metadata": {},
   "outputs": [
    {
     "data": {
      "text/plain": [
       "Invoice                                     489434\n",
       "StockCode                                    85048\n",
       "Description    15CM CHRISTMAS GLASS BALL 20 LIGHTS\n",
       "Quantity                                        12\n",
       "InvoiceDate                    2009-12-01 07:45:00\n",
       "Price                                         6.95\n",
       "Customer ID                                13085.0\n",
       "Country                             United Kingdom\n",
       "Name: 0, dtype: object"
      ]
     },
     "execution_count": 3,
     "metadata": {},
     "output_type": "execute_result"
    }
   ],
   "source": [
    "df_raw.iloc[0]"
   ]
  },
  {
   "cell_type": "code",
   "execution_count": 4,
   "metadata": {},
   "outputs": [],
   "source": [
    "df_raw['Customer ID'] = df_raw['Customer ID'].astype(str).apply(lambda x: x.split('.')[0])\n",
    "df_raw['InvoiceDate'] = pd.to_datetime(df_raw['InvoiceDate'])\n",
    "df_raw['subtotal'] = df_raw['Quantity'] * df_raw['Price']"
   ]
  },
  {
   "cell_type": "code",
   "execution_count": null,
   "metadata": {},
   "outputs": [],
   "source": [
    "## to remove hour and minute, convert to a date object\n",
    "df_raw['invoice_date_week'] = pd.to_datetime(\n",
    "    pd.to_datetime(df_raw['InvoiceDate']) - pd.to_timedelta(df_raw['InvoiceDate'].dt.dayofweek, unit='d')\n",
    ").dt.date\n",
    "\n",
    "## convert back to datetime object, so we can use it for pd.Grouper()\n",
    "df_raw['invoice_date_week'] = pd.to_datetime(df_raw['invoice_date_week'])"
   ]
  },
  {
   "cell_type": "code",
   "execution_count": null,
   "metadata": {},
   "outputs": [],
   "source": [
    "from pandas.tseries.offsets import MonthEnd\n",
    "\n",
    "df_raw['month_end_date'] = df_raw['InvoiceDate'] + MonthEnd(1)"
   ]
  },
  {
   "cell_type": "code",
   "execution_count": null,
   "metadata": {},
   "outputs": [],
   "source": [
    "print(f\"Number of unique item codes: {df_raw['StockCode'].nunique():,}\")"
   ]
  },
  {
   "cell_type": "code",
   "execution_count": null,
   "metadata": {},
   "outputs": [],
   "source": [
    "agg_date = df_raw.groupby(['StockCode']).agg({\n",
    "    'invoice_date_week': ['min','max','nunique']\n",
    "}).reset_index()\n",
    "\n",
    "agg_date.columns = [\n",
    "    col[0] if col[1] == '' else col[0]+'_'+col[1] for col in agg_date.columns\n",
    "]"
   ]
  },
  {
   "cell_type": "code",
   "execution_count": null,
   "metadata": {},
   "outputs": [],
   "source": [
    "sns.violinplot(agg_date['invoice_date_week_nunique'])\n",
    "plt.title('Each item has a different number of dates in the sales data')\n",
    "sns.despine();"
   ]
  },
  {
   "cell_type": "code",
   "execution_count": null,
   "metadata": {},
   "outputs": [],
   "source": [
    "df_raw['Quantity'].describe()"
   ]
  },
  {
   "cell_type": "code",
   "execution_count": null,
   "metadata": {},
   "outputs": [],
   "source": [
    "negative_quantity = (df_raw['Quantity'] < 0).sum() / df_raw.shape[0] \n",
    "print(f\"{negative_quantity:.2%} of the records have negative sales quantity\")"
   ]
  },
  {
   "cell_type": "markdown",
   "metadata": {},
   "source": [
    "Interesting -- the total sales quantity can be extremely negative. To simplify, we'll only take items with positive all-time sales quantity."
   ]
  },
  {
   "cell_type": "code",
   "execution_count": null,
   "metadata": {},
   "outputs": [],
   "source": [
    "agg_quantity = df_raw.groupby('StockCode').sum()['Quantity'].sort_values().reset_index()\n",
    "agg_quantity.head()"
   ]
  },
  {
   "cell_type": "code",
   "execution_count": null,
   "metadata": {},
   "outputs": [],
   "source": [
    "positive_quantity_item_list = agg_quantity.query('Quantity > 0')['StockCode'].tolist()\n",
    "df_selected = df_raw.query('StockCode in @positive_quantity_item_list')"
   ]
  },
  {
   "cell_type": "markdown",
   "metadata": {},
   "source": [
    "# Observe sales history"
   ]
  },
  {
   "cell_type": "code",
   "execution_count": null,
   "metadata": {},
   "outputs": [],
   "source": [
    "df_selected.iloc[0]"
   ]
  },
  {
   "cell_type": "code",
   "execution_count": null,
   "metadata": {},
   "outputs": [],
   "source": [
    "df_agg = df_selected.groupby([\n",
    "    pd.Grouper(\n",
    "        key='invoice_date_week',\n",
    "        freq='W'\n",
    "    ),\n",
    "    'StockCode'\n",
    "]).sum()['Quantity'].reset_index().rename(\n",
    "    columns={\n",
    "        'StockCode': 'stock_code',\n",
    "        'Quantity': 'quantity'\n",
    "    }\n",
    ")\n",
    "\n",
    "df_agg.head()"
   ]
  },
  {
   "cell_type": "code",
   "execution_count": null,
   "metadata": {},
   "outputs": [],
   "source": [
    "f, ax = plt.subplots(figsize=(16, 4))\n",
    "\n",
    "sns.lineplot(\n",
    "    data=df_agg.groupby('invoice_date_week').sum()['quantity'].reset_index(),\n",
    "    x='invoice_date_week',\n",
    "    y='quantity',\n",
    "    ax=ax\n",
    ")\n",
    "\n",
    "ax.xaxis.set_major_formatter(mdates.DateFormatter('%Y %b'))\n",
    "ax.set_xlabel('')\n",
    "ax.set_ylabel('sales quantity')\n",
    "plt.title(\"Changepoint in the end of 2010?\")\n",
    "sns.despine();"
   ]
  },
  {
   "cell_type": "markdown",
   "metadata": {},
   "source": [
    "## Generate complete time series"
   ]
  },
  {
   "cell_type": "code",
   "execution_count": null,
   "metadata": {},
   "outputs": [],
   "source": [
    "from preprocess_time_series import generate_complete_records\n",
    "\n",
    "GENERATE_SERIES = False\n",
    "SERIES_FILE_NAME = 'weekly-item-full-series.parquet'\n",
    "\n",
    "if GENERATE_SERIES:\n",
    "    df_agg_full = generate_complete_records(df=df_agg, date_freq='W')    \n",
    "    df_agg_full.to_parquet(SERIES_FILE_NAME)\n",
    "else:\n",
    "    df_agg_full = pd.read_parquet(SERIES_FILE_NAME)\n",
    "    \n",
    "assert df_agg_full['quantity'].sum() == df_agg['quantity'].sum(), \"Different values after generating complete records!\""
   ]
  },
  {
   "cell_type": "code",
   "execution_count": null,
   "metadata": {},
   "outputs": [],
   "source": [
    "mask = (df_agg_full['stock_code'] == 'ABCIndex')\n",
    "df_agg_full[mask]"
   ]
  },
  {
   "cell_type": "markdown",
   "metadata": {},
   "source": [
    "## Observe new time series data"
   ]
  },
  {
   "cell_type": "code",
   "execution_count": null,
   "metadata": {},
   "outputs": [],
   "source": [
    "agg_quantity.tail()"
   ]
  },
  {
   "cell_type": "code",
   "execution_count": null,
   "metadata": {},
   "outputs": [],
   "source": [
    "f, ax = plt.subplots(figsize=(12,4))\n",
    "\n",
    "SELECTED_ITEM = '85123A'\n",
    "df_agg.query('stock_code == @SELECTED_ITEM').plot.line(\n",
    "    x='invoice_date_week', \n",
    "    y='quantity', \n",
    "    ax=ax\n",
    ");\n",
    "sns.despine();"
   ]
  },
  {
   "cell_type": "markdown",
   "metadata": {},
   "source": [
    "# Clustering\n",
    "\n",
    "## Approach 1: use summary statistics, then run common clustering algorithms"
   ]
  },
  {
   "cell_type": "code",
   "execution_count": null,
   "metadata": {},
   "outputs": [],
   "source": [
    "## TO DO"
   ]
  },
  {
   "cell_type": "markdown",
   "metadata": {},
   "source": [
    "## Approach 2: compute similarity measures of multiple time series\n",
    "\n",
    "### 2a. Use Euclidean distance"
   ]
  },
  {
   "cell_type": "code",
   "execution_count": null,
   "metadata": {},
   "outputs": [],
   "source": [
    "import tslearn"
   ]
  },
  {
   "cell_type": "code",
   "execution_count": null,
   "metadata": {},
   "outputs": [],
   "source": []
  },
  {
   "cell_type": "markdown",
   "metadata": {},
   "source": [
    "### 2b. Use Dynamic Time Warping"
   ]
  },
  {
   "cell_type": "code",
   "execution_count": null,
   "metadata": {},
   "outputs": [],
   "source": []
  },
  {
   "cell_type": "code",
   "execution_count": null,
   "metadata": {},
   "outputs": [],
   "source": []
  }
 ],
 "metadata": {
  "kernelspec": {
   "display_name": "Python 3",
   "language": "python",
   "name": "python3"
  },
  "language_info": {
   "codemirror_mode": {
    "name": "ipython",
    "version": 3
   },
   "file_extension": ".py",
   "mimetype": "text/x-python",
   "name": "python",
   "nbconvert_exporter": "python",
   "pygments_lexer": "ipython3",
   "version": "3.7.6"
  }
 },
 "nbformat": 4,
 "nbformat_minor": 4
}
