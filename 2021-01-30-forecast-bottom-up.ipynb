{
 "cells": [
  {
   "cell_type": "markdown",
   "metadata": {},
   "source": [
    "# Introduction\n",
    "\n",
    "Following is the dataset description, copied from the [Kaggle page](https://www.kaggle.com/mashlyn/online-retail-ii-uci).\n",
    "\n",
    "*This Online Retail II data set contains all the transactions occurring for a UK-based and registered, non-store online retail between 01/12/2009 and 09/12/2011.The company mainly sells unique all-occasion gift-ware. Many customers of the company are wholesalers.*\n",
    "\n",
    "**Attribute Information:**\n",
    "\n",
    "- `InvoiceNo`: Invoice number. Nominal. A 6-digit integral number uniquely assigned to each transaction. If this code starts with the letter 'c', it indicates a cancellation.\n",
    "- `StockCode`: Product (item) code. Nominal. A 5-digit integral number uniquely assigned to each distinct product.\n",
    "- `Description`: Product (item) name. Nominal.\n",
    "- `Quantity`: The quantities of each product (item) per transaction. Numeric.\n",
    "- `InvoiceDate`: Invice date and time. Numeric. The day and time when a transaction was generated.\n",
    "- `UnitPrice`: Unit price. Numeric. Product price per unit in sterling (Â£).\n",
    "- `CustomerID`: Customer number. Nominal. A 5-digit integral number uniquely assigned to each customer.\n",
    "- `Country`: Country name. Nominal. The name of the country where a customer resides."
   ]
  },
  {
   "cell_type": "code",
   "execution_count": 1,
   "metadata": {},
   "outputs": [],
   "source": [
    "import pandas as pd\n",
    "import numpy as np\n",
    "import matplotlib.pyplot as plt\n",
    "import matplotlib.dates as mdates\n",
    "import seaborn as sns\n",
    "\n",
    "sns.set_context('talk')"
   ]
  },
  {
   "cell_type": "markdown",
   "metadata": {},
   "source": [
    "# Data Preparation\n",
    "\n",
    "There are 1,067,371 records with eight columns. There are null values on `Description` and `Customer ID` columns."
   ]
  },
  {
   "cell_type": "code",
   "execution_count": 2,
   "metadata": {},
   "outputs": [
    {
     "data": {
      "text/plain": [
       "(1067371, 8)"
      ]
     },
     "execution_count": 2,
     "metadata": {},
     "output_type": "execute_result"
    }
   ],
   "source": [
    "df_raw = pd.read_csv(\"online_retail_II.csv\")\n",
    "df_raw.shape"
   ]
  },
  {
   "cell_type": "code",
   "execution_count": 3,
   "metadata": {},
   "outputs": [
    {
     "name": "stdout",
     "output_type": "stream",
     "text": [
      "<class 'pandas.core.frame.DataFrame'>\n",
      "RangeIndex: 1067371 entries, 0 to 1067370\n",
      "Data columns (total 8 columns):\n",
      " #   Column       Non-Null Count    Dtype  \n",
      "---  ------       --------------    -----  \n",
      " 0   Invoice      1067371 non-null  object \n",
      " 1   StockCode    1067371 non-null  object \n",
      " 2   Description  1062989 non-null  object \n",
      " 3   Quantity     1067371 non-null  int64  \n",
      " 4   InvoiceDate  1067371 non-null  object \n",
      " 5   Price        1067371 non-null  float64\n",
      " 6   Customer ID  824364 non-null   float64\n",
      " 7   Country      1067371 non-null  object \n",
      "dtypes: float64(2), int64(1), object(5)\n",
      "memory usage: 65.1+ MB\n"
     ]
    }
   ],
   "source": [
    "df_raw.info()"
   ]
  },
  {
   "cell_type": "markdown",
   "metadata": {},
   "source": [
    "Before performing further analysis, we should determine the correct data type of the columns. For instance, `Customer ID` shouldn't be treated as numeric values.\n",
    "\n",
    "We also create a new column called `subtotal`, which is the multiplication of `Quantity` and the unit price (`Price`)."
   ]
  },
  {
   "cell_type": "code",
   "execution_count": 4,
   "metadata": {},
   "outputs": [],
   "source": [
    "df_raw['Customer ID'] = df_raw['Customer ID'].astype(str).apply(lambda x: x.split('.')[0])\n",
    "df_raw['InvoiceDate'] = pd.to_datetime(df_raw['InvoiceDate'])\n",
    "df_raw['subtotal'] = df_raw['Quantity'] * df_raw['Price']"
   ]
  },
  {
   "cell_type": "markdown",
   "metadata": {},
   "source": [
    "Each record stores a pair of Invoice ID and a purchased item. Thus, there could be multiple records for one invoice."
   ]
  },
  {
   "cell_type": "code",
   "execution_count": 5,
   "metadata": {},
   "outputs": [
    {
     "data": {
      "text/html": [
       "<div>\n",
       "<style scoped>\n",
       "    .dataframe tbody tr th:only-of-type {\n",
       "        vertical-align: middle;\n",
       "    }\n",
       "\n",
       "    .dataframe tbody tr th {\n",
       "        vertical-align: top;\n",
       "    }\n",
       "\n",
       "    .dataframe thead th {\n",
       "        text-align: right;\n",
       "    }\n",
       "</style>\n",
       "<table border=\"1\" class=\"dataframe\">\n",
       "  <thead>\n",
       "    <tr style=\"text-align: right;\">\n",
       "      <th></th>\n",
       "      <th>Invoice</th>\n",
       "      <th>StockCode</th>\n",
       "      <th>Description</th>\n",
       "      <th>Quantity</th>\n",
       "      <th>InvoiceDate</th>\n",
       "      <th>Price</th>\n",
       "      <th>Customer ID</th>\n",
       "      <th>Country</th>\n",
       "      <th>subtotal</th>\n",
       "    </tr>\n",
       "  </thead>\n",
       "  <tbody>\n",
       "    <tr>\n",
       "      <th>0</th>\n",
       "      <td>489434</td>\n",
       "      <td>85048</td>\n",
       "      <td>15CM CHRISTMAS GLASS BALL 20 LIGHTS</td>\n",
       "      <td>12</td>\n",
       "      <td>2009-12-01 07:45:00</td>\n",
       "      <td>6.95</td>\n",
       "      <td>13085</td>\n",
       "      <td>United Kingdom</td>\n",
       "      <td>83.4</td>\n",
       "    </tr>\n",
       "    <tr>\n",
       "      <th>1</th>\n",
       "      <td>489434</td>\n",
       "      <td>79323P</td>\n",
       "      <td>PINK CHERRY LIGHTS</td>\n",
       "      <td>12</td>\n",
       "      <td>2009-12-01 07:45:00</td>\n",
       "      <td>6.75</td>\n",
       "      <td>13085</td>\n",
       "      <td>United Kingdom</td>\n",
       "      <td>81.0</td>\n",
       "    </tr>\n",
       "    <tr>\n",
       "      <th>2</th>\n",
       "      <td>489434</td>\n",
       "      <td>79323W</td>\n",
       "      <td>WHITE CHERRY LIGHTS</td>\n",
       "      <td>12</td>\n",
       "      <td>2009-12-01 07:45:00</td>\n",
       "      <td>6.75</td>\n",
       "      <td>13085</td>\n",
       "      <td>United Kingdom</td>\n",
       "      <td>81.0</td>\n",
       "    </tr>\n",
       "    <tr>\n",
       "      <th>3</th>\n",
       "      <td>489434</td>\n",
       "      <td>22041</td>\n",
       "      <td>RECORD FRAME 7\" SINGLE SIZE</td>\n",
       "      <td>48</td>\n",
       "      <td>2009-12-01 07:45:00</td>\n",
       "      <td>2.10</td>\n",
       "      <td>13085</td>\n",
       "      <td>United Kingdom</td>\n",
       "      <td>100.8</td>\n",
       "    </tr>\n",
       "    <tr>\n",
       "      <th>4</th>\n",
       "      <td>489434</td>\n",
       "      <td>21232</td>\n",
       "      <td>STRAWBERRY CERAMIC TRINKET BOX</td>\n",
       "      <td>24</td>\n",
       "      <td>2009-12-01 07:45:00</td>\n",
       "      <td>1.25</td>\n",
       "      <td>13085</td>\n",
       "      <td>United Kingdom</td>\n",
       "      <td>30.0</td>\n",
       "    </tr>\n",
       "  </tbody>\n",
       "</table>\n",
       "</div>"
      ],
      "text/plain": [
       "  Invoice StockCode                          Description  Quantity  \\\n",
       "0  489434     85048  15CM CHRISTMAS GLASS BALL 20 LIGHTS        12   \n",
       "1  489434    79323P                   PINK CHERRY LIGHTS        12   \n",
       "2  489434    79323W                  WHITE CHERRY LIGHTS        12   \n",
       "3  489434     22041         RECORD FRAME 7\" SINGLE SIZE         48   \n",
       "4  489434     21232       STRAWBERRY CERAMIC TRINKET BOX        24   \n",
       "\n",
       "          InvoiceDate  Price Customer ID         Country  subtotal  \n",
       "0 2009-12-01 07:45:00   6.95       13085  United Kingdom      83.4  \n",
       "1 2009-12-01 07:45:00   6.75       13085  United Kingdom      81.0  \n",
       "2 2009-12-01 07:45:00   6.75       13085  United Kingdom      81.0  \n",
       "3 2009-12-01 07:45:00   2.10       13085  United Kingdom     100.8  \n",
       "4 2009-12-01 07:45:00   1.25       13085  United Kingdom      30.0  "
      ]
     },
     "execution_count": 5,
     "metadata": {},
     "output_type": "execute_result"
    }
   ],
   "source": [
    "df_raw.head()"
   ]
  },
  {
   "cell_type": "markdown",
   "metadata": {},
   "source": [
    "# Exploratory Analysis"
   ]
  },
  {
   "cell_type": "markdown",
   "metadata": {},
   "source": [
    "The dataset is not clean; we have negative values in `Quantity` and `Price`."
   ]
  },
  {
   "cell_type": "code",
   "execution_count": 6,
   "metadata": {},
   "outputs": [
    {
     "data": {
      "text/html": [
       "<div>\n",
       "<style scoped>\n",
       "    .dataframe tbody tr th:only-of-type {\n",
       "        vertical-align: middle;\n",
       "    }\n",
       "\n",
       "    .dataframe tbody tr th {\n",
       "        vertical-align: top;\n",
       "    }\n",
       "\n",
       "    .dataframe thead th {\n",
       "        text-align: right;\n",
       "    }\n",
       "</style>\n",
       "<table border=\"1\" class=\"dataframe\">\n",
       "  <thead>\n",
       "    <tr style=\"text-align: right;\">\n",
       "      <th></th>\n",
       "      <th>Quantity</th>\n",
       "      <th>Price</th>\n",
       "      <th>subtotal</th>\n",
       "    </tr>\n",
       "  </thead>\n",
       "  <tbody>\n",
       "    <tr>\n",
       "      <th>count</th>\n",
       "      <td>1.067371e+06</td>\n",
       "      <td>1.067371e+06</td>\n",
       "      <td>1.067371e+06</td>\n",
       "    </tr>\n",
       "    <tr>\n",
       "      <th>mean</th>\n",
       "      <td>9.938898e+00</td>\n",
       "      <td>4.649388e+00</td>\n",
       "      <td>1.806987e+01</td>\n",
       "    </tr>\n",
       "    <tr>\n",
       "      <th>std</th>\n",
       "      <td>1.727058e+02</td>\n",
       "      <td>1.235531e+02</td>\n",
       "      <td>2.924202e+02</td>\n",
       "    </tr>\n",
       "    <tr>\n",
       "      <th>min</th>\n",
       "      <td>-8.099500e+04</td>\n",
       "      <td>-5.359436e+04</td>\n",
       "      <td>-1.684696e+05</td>\n",
       "    </tr>\n",
       "    <tr>\n",
       "      <th>25%</th>\n",
       "      <td>1.000000e+00</td>\n",
       "      <td>1.250000e+00</td>\n",
       "      <td>3.750000e+00</td>\n",
       "    </tr>\n",
       "    <tr>\n",
       "      <th>50%</th>\n",
       "      <td>3.000000e+00</td>\n",
       "      <td>2.100000e+00</td>\n",
       "      <td>9.900000e+00</td>\n",
       "    </tr>\n",
       "    <tr>\n",
       "      <th>75%</th>\n",
       "      <td>1.000000e+01</td>\n",
       "      <td>4.150000e+00</td>\n",
       "      <td>1.770000e+01</td>\n",
       "    </tr>\n",
       "    <tr>\n",
       "      <th>max</th>\n",
       "      <td>8.099500e+04</td>\n",
       "      <td>3.897000e+04</td>\n",
       "      <td>1.684696e+05</td>\n",
       "    </tr>\n",
       "  </tbody>\n",
       "</table>\n",
       "</div>"
      ],
      "text/plain": [
       "           Quantity         Price      subtotal\n",
       "count  1.067371e+06  1.067371e+06  1.067371e+06\n",
       "mean   9.938898e+00  4.649388e+00  1.806987e+01\n",
       "std    1.727058e+02  1.235531e+02  2.924202e+02\n",
       "min   -8.099500e+04 -5.359436e+04 -1.684696e+05\n",
       "25%    1.000000e+00  1.250000e+00  3.750000e+00\n",
       "50%    3.000000e+00  2.100000e+00  9.900000e+00\n",
       "75%    1.000000e+01  4.150000e+00  1.770000e+01\n",
       "max    8.099500e+04  3.897000e+04  1.684696e+05"
      ]
     },
     "execution_count": 6,
     "metadata": {},
     "output_type": "execute_result"
    }
   ],
   "source": [
    "df_raw.describe()"
   ]
  },
  {
   "cell_type": "markdown",
   "metadata": {},
   "source": [
    "# Data Cleaning\n",
    "\n",
    "We observe some records with negative price. Since there are only 5 records, we can remove them."
   ]
  },
  {
   "cell_type": "code",
   "execution_count": 7,
   "metadata": {},
   "outputs": [
    {
     "name": "stdout",
     "output_type": "stream",
     "text": [
      "Remove 5 records with negative price.\n"
     ]
    }
   ],
   "source": [
    "mask_neg_price = (df_raw['Price'] < 0)\n",
    "print(\"Remove {} records with negative price.\".format(df_raw[mask_neg_price].shape[0]))\n",
    "\n",
    "df_raw = df_raw[~mask_neg_price].copy()"
   ]
  },
  {
   "cell_type": "markdown",
   "metadata": {},
   "source": [
    "There are more than 22,000 records with negative quantities. It can occur due to sales return or if the products are sold before the data collection date.\n",
    "\n",
    "Despite the seemingly high number, it only represents 2.15% of our dataset. Moreover, it occurs in most of the months (except in January), with more occurrence around Q4 of the year. Assuming that it is distributed randomly over the period, we ignore these records from our dataset."
   ]
  },
  {
   "cell_type": "code",
   "execution_count": 8,
   "metadata": {},
   "outputs": [
    {
     "name": "stdout",
     "output_type": "stream",
     "text": [
      "Records with negative quantity: 22,950 ~ 2.15% of the records.\n"
     ]
    }
   ],
   "source": [
    "mask_neg_qty = (df_raw['Quantity'] < 0)\n",
    "\n",
    "print(\"Records with negative quantity: {:,.0f} ~ {:,.2%} of the records.\".format(\n",
    "    df_raw[mask_neg_qty].shape[0],\n",
    "      df_raw[mask_neg_qty].shape[0] / df_raw.shape[0]\n",
    "     ))"
   ]
  },
  {
   "cell_type": "code",
   "execution_count": 9,
   "metadata": {},
   "outputs": [
    {
     "data": {
      "image/png": "[encoded data removed]",
      "text/plain": [
       "<Figure size 1152x288 with 1 Axes>"
      ]
     },
     "metadata": {
      "needs_background": "light"
     },
     "output_type": "display_data"
    }
   ],
   "source": [
    "f, ax = plt.subplots(figsize = (16,4))\n",
    "df_raw[mask_neg_qty].groupby(pd.Grouper(key = 'InvoiceDate', freq = '1W')).agg({\n",
    "    'Invoice': 'count'\n",
    "}).plot.line(ax = ax);\n",
    "\n",
    "sns.despine();\n",
    "plt.title(\"Records with negative sales quantity are observed throughout the period\");\n",
    "plt.show();"
   ]
  },
  {
   "cell_type": "code",
   "execution_count": 10,
   "metadata": {},
   "outputs": [
    {
     "name": "stdout",
     "output_type": "stream",
     "text": [
      "Remaining observations: 1,044,416\n"
     ]
    }
   ],
   "source": [
    "df_raw = df_raw[~mask_neg_qty].copy()\n",
    "print(\"Remaining observations: {:,.0f}\".format(df_raw.shape[0]))"
   ]
  },
  {
   "cell_type": "markdown",
   "metadata": {},
   "source": [
    "## Model Training\n",
    "\n",
    "Try using [scikit-hts](https://github.com/carlomazzaferro/scikit-hts)"
   ]
  },
  {
   "cell_type": "code",
   "execution_count": 31,
   "metadata": {},
   "outputs": [],
   "source": [
    "from sklearn.metrics import mean_squared_error, mean_absolute_error\n",
    "\n",
    "def mean_absolute_percentage_error(y_true, y_pred): \n",
    "    y_true, y_pred = np.array(y_true), np.array(y_pred)\n",
    "    return np.mean(np.abs(y_true - y_pred) / y_true) * 100\n",
    "\n",
    "def mean_absolute_percentage_error1(y_true, y_pred): \n",
    "    y_true, y_pred = np.array(y_true), np.array(y_pred)\n",
    "    return np.mean((np.abs(y_true - y_pred) + 1) /(y_true + 1)) * 100\n",
    "\n",
    "def weighted_ape(y_true, y_pred):\n",
    "    y_true, y_pred = np.array(y_true), np.array(y_pred)\n",
    "    return np.sum(np.abs(y_true - y_pred)) / np.sum(y_true)\n",
    "\n",
    "def evaluate_prediction(y_true, y_pred):\n",
    "    rmse = np.sqrt(mean_squared_error(y_true, y_pred))\n",
    "    mae = (mean_absolute_error(y_true, y_pred))\n",
    "    mape = (mean_absolute_percentage_error(y_true, y_pred))\n",
    "    mape1 = (mean_absolute_percentage_error1(y_true, y_pred))\n",
    "    wape = weighted_ape(y_true, y_pred)\n",
    "    print(\"RMSE\\t: {:,.5f}\".format(rmse))\n",
    "    print(\"MAE\\t: {:,.5f}\".format(mae))\n",
    "    print(\"MAPE\\t: {:,.2f}%\".format(mape))\n",
    "    print(\"MAPE1\\t: {:,.2f}%\".format(mape1))\n",
    "    print(\"WAPE\\t: {:,.2f}%\".format(wape))"
   ]
  },
  {
   "cell_type": "code",
   "execution_count": 12,
   "metadata": {},
   "outputs": [],
   "source": [
    "## TO DO: create features\n",
    "## based on product hierarchy\n",
    "\n",
    "## simplify: select top 5 countries \n",
    "## note that there is \"unspecified\" country as well\n",
    "mask_country = df_raw['Country'].isin(['United Kingdom','EIRE','Germany','France','Spain'])\n",
    "## simplify: select top 5 stock code\n",
    "mask_stock = df_raw['StockCode'].isin(['85123A','85099B','22423','21212','20725'])\n",
    "df_raw = df_raw[mask_country & mask_stock].copy().reset_index().drop(labels=['index'], axis=1)"
   ]
  },
  {
   "cell_type": "code",
   "execution_count": 13,
   "metadata": {},
   "outputs": [],
   "source": [
    "# df_raw.groupby(['Country']).agg({'StockCode': pd.Series.nunique}).sort_values(by='StockCode', ascending=False)"
   ]
  },
  {
   "cell_type": "code",
   "execution_count": 14,
   "metadata": {},
   "outputs": [
    {
     "data": {
      "text/plain": [
       "Invoice                                    489442\n",
       "StockCode                                  85123A\n",
       "Description    WHITE HANGING HEART T-LIGHT HOLDER\n",
       "Quantity                                        6\n",
       "InvoiceDate                   2009-12-01 09:46:00\n",
       "Price                                        2.95\n",
       "Customer ID                                 13635\n",
       "Country                            United Kingdom\n",
       "subtotal                                     17.7\n",
       "Name: 0, dtype: object"
      ]
     },
     "execution_count": 14,
     "metadata": {},
     "output_type": "execute_result"
    }
   ],
   "source": [
    "df_raw.iloc[0]"
   ]
  },
  {
   "cell_type": "code",
   "execution_count": 15,
   "metadata": {},
   "outputs": [],
   "source": [
    "df_agg = df_raw.groupby([\n",
    "    pd.Grouper(key='InvoiceDate', freq='1W'),\n",
    "    'Country',\n",
    "    'StockCode'\n",
    "]).agg({\n",
    "    'Quantity': 'sum'\n",
    "}).reset_index()\n",
    "\n",
    "df_agg_pivot = df_agg.pivot_table(\n",
    "    index='InvoiceDate',\n",
    "    columns=['Country','StockCode'],\n",
    "    values='Quantity',\n",
    "    fill_value=0,\n",
    "    aggfunc='sum'\n",
    ")\n",
    "\n",
    "df_agg_pivot.columns = ['_'.join(col) for col in df_agg_pivot.columns]\n",
    "\n",
    "df_agg_pivot['total'] = df_agg_pivot.sum(axis=1)"
   ]
  },
  {
   "cell_type": "code",
   "execution_count": 16,
   "metadata": {},
   "outputs": [
    {
     "data": {
      "text/html": [
       "<div>\n",
       "<style scoped>\n",
       "    .dataframe tbody tr th:only-of-type {\n",
       "        vertical-align: middle;\n",
       "    }\n",
       "\n",
       "    .dataframe tbody tr th {\n",
       "        vertical-align: top;\n",
       "    }\n",
       "\n",
       "    .dataframe thead th {\n",
       "        text-align: right;\n",
       "    }\n",
       "</style>\n",
       "<table border=\"1\" class=\"dataframe\">\n",
       "  <thead>\n",
       "    <tr style=\"text-align: right;\">\n",
       "      <th></th>\n",
       "      <th>EIRE_20725</th>\n",
       "      <th>EIRE_21212</th>\n",
       "      <th>EIRE_22423</th>\n",
       "      <th>EIRE_85099B</th>\n",
       "      <th>EIRE_85123A</th>\n",
       "      <th>France_20725</th>\n",
       "      <th>France_21212</th>\n",
       "      <th>France_22423</th>\n",
       "      <th>France_85099B</th>\n",
       "      <th>France_85123A</th>\n",
       "      <th>...</th>\n",
       "      <th>Spain_21212</th>\n",
       "      <th>Spain_22423</th>\n",
       "      <th>Spain_85099B</th>\n",
       "      <th>Spain_85123A</th>\n",
       "      <th>United Kingdom_20725</th>\n",
       "      <th>United Kingdom_21212</th>\n",
       "      <th>United Kingdom_22423</th>\n",
       "      <th>United Kingdom_85099B</th>\n",
       "      <th>United Kingdom_85123A</th>\n",
       "      <th>total</th>\n",
       "    </tr>\n",
       "    <tr>\n",
       "      <th>InvoiceDate</th>\n",
       "      <th></th>\n",
       "      <th></th>\n",
       "      <th></th>\n",
       "      <th></th>\n",
       "      <th></th>\n",
       "      <th></th>\n",
       "      <th></th>\n",
       "      <th></th>\n",
       "      <th></th>\n",
       "      <th></th>\n",
       "      <th></th>\n",
       "      <th></th>\n",
       "      <th></th>\n",
       "      <th></th>\n",
       "      <th></th>\n",
       "      <th></th>\n",
       "      <th></th>\n",
       "      <th></th>\n",
       "      <th></th>\n",
       "      <th></th>\n",
       "      <th></th>\n",
       "    </tr>\n",
       "  </thead>\n",
       "  <tbody>\n",
       "    <tr>\n",
       "      <th>2009-12-06</th>\n",
       "      <td>0</td>\n",
       "      <td>24</td>\n",
       "      <td>0</td>\n",
       "      <td>0</td>\n",
       "      <td>0</td>\n",
       "      <td>0</td>\n",
       "      <td>48</td>\n",
       "      <td>0</td>\n",
       "      <td>20</td>\n",
       "      <td>0</td>\n",
       "      <td>...</td>\n",
       "      <td>0</td>\n",
       "      <td>0</td>\n",
       "      <td>0</td>\n",
       "      <td>0</td>\n",
       "      <td>206</td>\n",
       "      <td>1360</td>\n",
       "      <td>0</td>\n",
       "      <td>1148</td>\n",
       "      <td>1353</td>\n",
       "      <td>4189</td>\n",
       "    </tr>\n",
       "    <tr>\n",
       "      <th>2009-12-13</th>\n",
       "      <td>0</td>\n",
       "      <td>24</td>\n",
       "      <td>0</td>\n",
       "      <td>0</td>\n",
       "      <td>108</td>\n",
       "      <td>0</td>\n",
       "      <td>24</td>\n",
       "      <td>0</td>\n",
       "      <td>0</td>\n",
       "      <td>18</td>\n",
       "      <td>...</td>\n",
       "      <td>0</td>\n",
       "      <td>0</td>\n",
       "      <td>0</td>\n",
       "      <td>0</td>\n",
       "      <td>314</td>\n",
       "      <td>1075</td>\n",
       "      <td>0</td>\n",
       "      <td>1233</td>\n",
       "      <td>3046</td>\n",
       "      <td>5842</td>\n",
       "    </tr>\n",
       "    <tr>\n",
       "      <th>2009-12-20</th>\n",
       "      <td>0</td>\n",
       "      <td>24</td>\n",
       "      <td>0</td>\n",
       "      <td>10</td>\n",
       "      <td>18</td>\n",
       "      <td>0</td>\n",
       "      <td>0</td>\n",
       "      <td>0</td>\n",
       "      <td>0</td>\n",
       "      <td>0</td>\n",
       "      <td>...</td>\n",
       "      <td>0</td>\n",
       "      <td>0</td>\n",
       "      <td>0</td>\n",
       "      <td>0</td>\n",
       "      <td>236</td>\n",
       "      <td>1567</td>\n",
       "      <td>0</td>\n",
       "      <td>1254</td>\n",
       "      <td>1258</td>\n",
       "      <td>4387</td>\n",
       "    </tr>\n",
       "    <tr>\n",
       "      <th>2009-12-27</th>\n",
       "      <td>100</td>\n",
       "      <td>240</td>\n",
       "      <td>0</td>\n",
       "      <td>0</td>\n",
       "      <td>0</td>\n",
       "      <td>0</td>\n",
       "      <td>0</td>\n",
       "      <td>0</td>\n",
       "      <td>0</td>\n",
       "      <td>0</td>\n",
       "      <td>...</td>\n",
       "      <td>0</td>\n",
       "      <td>0</td>\n",
       "      <td>20</td>\n",
       "      <td>0</td>\n",
       "      <td>11</td>\n",
       "      <td>524</td>\n",
       "      <td>0</td>\n",
       "      <td>16</td>\n",
       "      <td>128</td>\n",
       "      <td>1039</td>\n",
       "    </tr>\n",
       "    <tr>\n",
       "      <th>2010-01-10</th>\n",
       "      <td>0</td>\n",
       "      <td>480</td>\n",
       "      <td>0</td>\n",
       "      <td>300</td>\n",
       "      <td>184</td>\n",
       "      <td>30</td>\n",
       "      <td>84</td>\n",
       "      <td>0</td>\n",
       "      <td>140</td>\n",
       "      <td>0</td>\n",
       "      <td>...</td>\n",
       "      <td>0</td>\n",
       "      <td>0</td>\n",
       "      <td>0</td>\n",
       "      <td>12</td>\n",
       "      <td>294</td>\n",
       "      <td>207</td>\n",
       "      <td>0</td>\n",
       "      <td>712</td>\n",
       "      <td>1577</td>\n",
       "      <td>4020</td>\n",
       "    </tr>\n",
       "  </tbody>\n",
       "</table>\n",
       "<p>5 rows × 26 columns</p>\n",
       "</div>"
      ],
      "text/plain": [
       "             EIRE_20725  EIRE_21212  EIRE_22423  EIRE_85099B  EIRE_85123A  \\\n",
       "InvoiceDate                                                                 \n",
       "2009-12-06            0          24           0            0            0   \n",
       "2009-12-13            0          24           0            0          108   \n",
       "2009-12-20            0          24           0           10           18   \n",
       "2009-12-27          100         240           0            0            0   \n",
       "2010-01-10            0         480           0          300          184   \n",
       "\n",
       "             France_20725  France_21212  France_22423  France_85099B  \\\n",
       "InvoiceDate                                                            \n",
       "2009-12-06              0            48             0             20   \n",
       "2009-12-13              0            24             0              0   \n",
       "2009-12-20              0             0             0              0   \n",
       "2009-12-27              0             0             0              0   \n",
       "2010-01-10             30            84             0            140   \n",
       "\n",
       "             France_85123A  ...  Spain_21212  Spain_22423  Spain_85099B  \\\n",
       "InvoiceDate                 ...                                           \n",
       "2009-12-06               0  ...            0            0             0   \n",
       "2009-12-13              18  ...            0            0             0   \n",
       "2009-12-20               0  ...            0            0             0   \n",
       "2009-12-27               0  ...            0            0            20   \n",
       "2010-01-10               0  ...            0            0             0   \n",
       "\n",
       "             Spain_85123A  United Kingdom_20725  United Kingdom_21212  \\\n",
       "InvoiceDate                                                             \n",
       "2009-12-06              0                   206                  1360   \n",
       "2009-12-13              0                   314                  1075   \n",
       "2009-12-20              0                   236                  1567   \n",
       "2009-12-27              0                    11                   524   \n",
       "2010-01-10             12                   294                   207   \n",
       "\n",
       "             United Kingdom_22423  United Kingdom_85099B  \\\n",
       "InvoiceDate                                                \n",
       "2009-12-06                      0                   1148   \n",
       "2009-12-13                      0                   1233   \n",
       "2009-12-20                      0                   1254   \n",
       "2009-12-27                      0                     16   \n",
       "2010-01-10                      0                    712   \n",
       "\n",
       "             United Kingdom_85123A  total  \n",
       "InvoiceDate                                \n",
       "2009-12-06                    1353   4189  \n",
       "2009-12-13                    3046   5842  \n",
       "2009-12-20                    1258   4387  \n",
       "2009-12-27                     128   1039  \n",
       "2010-01-10                    1577   4020  \n",
       "\n",
       "[5 rows x 26 columns]"
      ]
     },
     "execution_count": 16,
     "metadata": {},
     "output_type": "execute_result"
    }
   ],
   "source": [
    "df_agg_pivot.head()"
   ]
  },
  {
   "cell_type": "code",
   "execution_count": 17,
   "metadata": {},
   "outputs": [
    {
     "data": {
      "text/plain": [
       "- total\n",
       "   |- United Kingdom\n",
       "   |  |- United Kingdom_85123A\n",
       "   |  |- United Kingdom_85099B\n",
       "   |  |- United Kingdom_22423\n",
       "   |  |- United Kingdom_21212\n",
       "   |  - United Kingdom_20725\n",
       "   |- EIRE\n",
       "   |  |- EIRE_85123A\n",
       "   |  |- EIRE_85099B\n",
       "   |  |- EIRE_22423\n",
       "   |  |- EIRE_21212\n",
       "   |  - EIRE_20725\n",
       "   |- Germany\n",
       "   |  |- Germany_85123A\n",
       "   |  |- Germany_85099B\n",
       "   |  |- Germany_22423\n",
       "   |  |- Germany_21212\n",
       "   |  - Germany_20725\n",
       "   |- France\n",
       "   |  |- France_85123A\n",
       "   |  |- France_85099B\n",
       "   |  |- France_22423\n",
       "   |  |- France_21212\n",
       "   |  - France_20725\n",
       "   - Spain\n",
       "      |- Spain_85123A\n",
       "      |- Spain_85099B\n",
       "      |- Spain_22423\n",
       "      |- Spain_21212\n",
       "      - Spain_20725"
      ]
     },
     "execution_count": 17,
     "metadata": {},
     "output_type": "execute_result"
    }
   ],
   "source": [
    "from hts.hierarchy import HierarchyTree\n",
    "\n",
    "uk_cols = ['United Kingdom'+'_'+stock for stock in ['85123A','85099B','22423','21212','20725']]\n",
    "eire_cols = ['EIRE'+'_'+stock for stock in ['85123A','85099B','22423','21212','20725']]\n",
    "germany_cols = ['Germany'+'_'+stock for stock in ['85123A','85099B','22423','21212','20725']]\n",
    "france_cols = ['France'+'_'+stock for stock in ['85123A','85099B','22423','21212','20725']]\n",
    "spain_cols = ['Spain'+'_'+stock for stock in ['85123A','85099B','22423','21212','20725']]\n",
    "\n",
    "df_agg_pivot['United Kingdom'] = df_agg_pivot[uk_cols].sum(axis=1)\n",
    "df_agg_pivot['EIRE'] = df_agg_pivot[eire_cols].sum(axis=1)\n",
    "df_agg_pivot['Germany'] = df_agg_pivot[germany_cols].sum(axis=1)\n",
    "df_agg_pivot['France'] = df_agg_pivot[france_cols].sum(axis=1)\n",
    "df_agg_pivot['Spain'] = df_agg_pivot[spain_cols].sum(axis=1)\n",
    "\n",
    "## to do: can we use multiindex as hierarchy structure?\n",
    "hierarchy = {\n",
    "    'total': ['United Kingdom', 'EIRE', 'Germany','France','Spain'], # uk_cols+eire_cols+germany_cols+france_cols+spain_cols,\n",
    "    'United Kingdom': uk_cols,\n",
    "    'EIRE': eire_cols,\n",
    "    'Germany': germany_cols,\n",
    "    'France': france_cols,\n",
    "    'Spain': spain_cols\n",
    "}\n",
    "\n",
    "htree = HierarchyTree.from_nodes(hierarchy, df_agg_pivot)\n",
    "htree"
   ]
  },
  {
   "cell_type": "code",
   "execution_count": 18,
   "metadata": {},
   "outputs": [],
   "source": [
    "df_agg_pivot = df_agg_pivot.resample(\"W\").sum()"
   ]
  },
  {
   "cell_type": "code",
   "execution_count": 19,
   "metadata": {},
   "outputs": [],
   "source": [
    "TEST_START_DT = '2011-09-01'\n",
    "TEST_END_DT = '2011-12-01'\n",
    "mask_train = (df_agg_pivot.index < pd.to_datetime(TEST_START_DT))\n",
    "mask_test = (\n",
    "    (df_agg_pivot.index >= pd.to_datetime(TEST_START_DT)) & \n",
    "    (df_agg_pivot.index < pd.to_datetime(TEST_END_DT))\n",
    ")\n",
    "\n",
    "df_train = df_agg_pivot[mask_train].copy()\n",
    "df_test = df_agg_pivot[mask_test].copy()"
   ]
  },
  {
   "cell_type": "code",
   "execution_count": 25,
   "metadata": {
    "scrolled": true
   },
   "outputs": [
    {
     "name": "stderr",
     "output_type": "stream",
     "text": [
      "Fitting models: 100%|██████████| 31/31 [00:04<00:00,  6.77it/s]\n",
      "Fitting models: 100%|██████████| 31/31 [00:19<00:00,  1.62it/s]\n"
     ]
    }
   ],
   "source": [
    "from hts import HTSRegressor\n",
    "\n",
    "reg = HTSRegressor(model='prophet', revision_method='OLS', n_jobs=12)\n",
    "reg.model_args = {\n",
    "    'weekly_seasonality': True,\n",
    "    'yearly_seasonality': True,\n",
    "    'daily_seasonality': True\n",
    "}\n",
    "reg = reg.fit(df=df_agg_pivot, nodes=hierarchy)\n",
    "\n",
    "preds = reg.predict(steps_ahead=3)"
   ]
  },
  {
   "cell_type": "code",
   "execution_count": 26,
   "metadata": {},
   "outputs": [],
   "source": [
    "df_combined = pd.DataFrame(df_agg_pivot['total'])\n",
    "df_combined['type'] = 'actual'\n",
    "\n",
    "_tmp = pd.DataFrame(preds['total'])\n",
    "_tmp['type'] = 'pred'\n",
    "\n",
    "df_combined = pd.concat([\n",
    "    df_combined, \n",
    "    _tmp\n",
    "])"
   ]
  },
  {
   "cell_type": "code",
   "execution_count": 27,
   "metadata": {},
   "outputs": [
    {
     "data": {
      "image/png": "[encoded data removed]",
      "text/plain": [
       "<Figure size 864x432 with 1 Axes>"
      ]
     },
     "metadata": {
      "needs_background": "light"
     },
     "output_type": "display_data"
    }
   ],
   "source": [
    "f, ax = plt.subplots(figsize=(12,6))\n",
    "\n",
    "sns.lineplot(\n",
    "    x=df_combined.index,\n",
    "    y=df_combined['total'],\n",
    "    hue=df_combined['type']\n",
    ")\n",
    "sns.despine();"
   ]
  },
  {
   "cell_type": "code",
   "execution_count": 32,
   "metadata": {},
   "outputs": [
    {
     "name": "stdout",
     "output_type": "stream",
     "text": [
      "RMSE\t: 1,031.54596\n",
      "MAE\t: 760.58073\n",
      "MAPE\t: inf%\n",
      "MAPE1\t: 2,271.28%\n",
      "WAPE\t: 0.24%\n"
     ]
    },
    {
     "name": "stderr",
     "output_type": "stream",
     "text": [
      "/home/elvyna/miniconda3/envs/py37/lib/python3.7/site-packages/ipykernel_launcher.py:5: RuntimeWarning: divide by zero encountered in true_divide\n",
      "  \"\"\"\n"
     ]
    }
   ],
   "source": [
    "evaluate_prediction(\n",
    "    df_agg_pivot['total'],\n",
    "    preds['total'][:-3]\n",
    ")"
   ]
  },
  {
   "cell_type": "code",
   "execution_count": 24,
   "metadata": {},
   "outputs": [],
   "source": [
    "## checkpoint"
   ]
  }
 ],
 "metadata": {
  "kernelspec": {
   "display_name": "Python 3",
   "language": "python",
   "name": "python3"
  },
  "language_info": {
   "codemirror_mode": {
    "name": "ipython",
    "version": 3
   },
   "file_extension": ".py",
   "mimetype": "text/x-python",
   "name": "python",
   "nbconvert_exporter": "python",
   "pygments_lexer": "ipython3",
   "version": "3.7.6"
  }
 },
 "nbformat": 4,
 "nbformat_minor": 4
}
